{
  "cells": [
    {
      "cell_type": "markdown",
      "source": [
        "# **Convolutional Auto Encoders** ✨"
      ],
      "metadata": {
        "id": "9-7R458_dMyd"
      }
    },
    {
      "cell_type": "markdown",
      "source": [
        "onvolutional Autoencoders (CAEs) are deep learning models used for image data processing. They combine the power of convolutional layers (great for images) and autoencoders (great for reducing data dimensions).\n",
        "\n",
        "💡 How They Work:\n",
        "1️⃣ Encoder 🧩: Compresses the input image into a smaller representation (latent space) while keeping the most important features.\n",
        "2️⃣ Decoder 🔄: Reconstructs the original image from the compressed representation, aiming to minimize reconstruction loss.\n",
        "\n",
        "🎯 Applications:\n",
        "\n",
        "Image denoising 🖼️✨\n",
        "Dimensionality reduction 📉\n",
        "Anomaly detection 🚨\n",
        "Image compression 📁\n",
        "They are super useful when working with large image datasets or cleaning noisy images! 🖌️"
      ],
      "metadata": {
        "id": "48HqEeyweNZM"
      }
    },
    {
      "cell_type": "markdown",
      "source": [
        "# **Lets** **start**  🚀"
      ],
      "metadata": {
        "id": "yHZdAswHeSdU"
      }
    },
    {
      "cell_type": "code",
      "execution_count": 31,
      "metadata": {
        "id": "Se8ymAAgJqMh"
      },
      "outputs": [],
      "source": [
        "# importing libraries\n",
        "import numpy as np\n",
        "import tensorflow as tf\n",
        "from tensorflow.keras.datasets import mnist\n",
        "import numpy as np\n",
        "import matplotlib.pyplot as plt\n",
        "from tensorflow.keras.layers import Input, Conv2D, MaxPooling2D, UpSampling2D, Flatten, Reshape\n",
        "from tensorflow.keras.models import Model"
      ]
    },
    {
      "cell_type": "markdown",
      "source": [
        "#**Loading the data** 📊"
      ],
      "metadata": {
        "id": "ptHkK2YrdcQM"
      }
    },
    {
      "cell_type": "code",
      "execution_count": 16,
      "metadata": {
        "id": "V3km3gJ1K_g4"
      },
      "outputs": [],
      "source": [
        "(x_train, _), (x_test, _) = mnist.load_data()"
      ]
    },
    {
      "cell_type": "code",
      "execution_count": 17,
      "metadata": {
        "id": "ZnQEzICKJ6IY",
        "colab": {
          "base_uri": "https://localhost:8080/",
          "height": 78
        },
        "outputId": "07c8f9ae-ab18-4457-e802-8a0a737b14ec"
      },
      "outputs": [
        {
          "output_type": "display_data",
          "data": {
            "text/plain": [
              "<Figure size 2000x400 with 10 Axes>"
            ],
            "image/png": "[encoded data removed]"
          },
          "metadata": {}
        }
      ],
      "source": [
        "n = 10\n",
        "plt.figure(figsize=(20, 4))\n",
        "for i in range(n):\n",
        "  ax = plt.subplot(1, n, i + 1)\n",
        "  plt.imshow(x_test[i].reshape(28, 28))\n",
        "  plt.gray()\n",
        "  ax.get_xaxis().set_visible(False)\n",
        "  ax.get_yaxis().set_visible(False)\n",
        "plt.show()\n",
        "plt.close()"
      ]
    },
    {
      "cell_type": "code",
      "execution_count": 18,
      "metadata": {
        "id": "v2G1Y-ZLK9KI",
        "colab": {
          "base_uri": "https://localhost:8080/"
        },
        "outputId": "2aa5cebc-0ea6-4caa-8a26-3285594ce16a"
      },
      "outputs": [
        {
          "output_type": "stream",
          "name": "stdout",
          "text": [
            "(60000, 784)\n",
            "(10000, 784)\n"
          ]
        }
      ],
      "source": [
        "x_train = x_train.astype('float32') / 255.\n",
        "x_test = x_test.astype('float32') / 255.\n",
        "x_train = x_train.reshape((len(x_train), 28*28*1))\n",
        "x_test = x_test.reshape((len(x_test), 28*28*1))\n",
        "print(x_train.shape)\n",
        "print(x_test.shape)"
      ]
    },
    {
      "cell_type": "markdown",
      "source": [
        "# **Architecture of auto-encoder**  🏗️"
      ],
      "metadata": {
        "id": "aHNMaZDddp4s"
      }
    },
    {
      "cell_type": "code",
      "execution_count": 20,
      "metadata": {
        "colab": {
          "base_uri": "https://localhost:8080/",
          "height": 709
        },
        "id": "UKtzbKTZzb2f",
        "outputId": "f7d65d82-113f-4dc4-c74d-2c1c072c94c9"
      },
      "outputs": [
        {
          "output_type": "stream",
          "name": "stderr",
          "text": [
            "/usr/local/lib/python3.10/dist-packages/keras/src/layers/reshaping/reshape.py:39: UserWarning: Do not pass an `input_shape`/`input_dim` argument to a layer. When using Sequential models, prefer using an `Input(shape)` object as the first layer in the model instead.\n",
            "  super().__init__(**kwargs)\n"
          ]
        },
        {
          "output_type": "display_data",
          "data": {
            "text/plain": [
              "\u001b[1mModel: \"functional_1\"\u001b[0m\n"
            ],
            "text/html": [
              "<pre style=\"white-space:pre;overflow-x:auto;line-height:normal;font-family:Menlo,'DejaVu Sans Mono',consolas,'Courier New',monospace\"><span style=\"font-weight: bold\">Model: \"functional_1\"</span>\n",
              "</pre>\n"
            ]
          },
          "metadata": {}
        },
        {
          "output_type": "display_data",
          "data": {
            "text/plain": [
              "┏━━━━━━━━━━━━━━━━━━━━━━━━━━━━━━━━━━━━━━┳━━━━━━━━━━━━━━━━━━━━━━━━━━━━━┳━━━━━━━━━━━━━━━━━┓\n",
              "┃\u001b[1m \u001b[0m\u001b[1mLayer (type)                        \u001b[0m\u001b[1m \u001b[0m┃\u001b[1m \u001b[0m\u001b[1mOutput Shape               \u001b[0m\u001b[1m \u001b[0m┃\u001b[1m \u001b[0m\u001b[1m        Param #\u001b[0m\u001b[1m \u001b[0m┃\n",
              "┡━━━━━━━━━━━━━━━━━━━━━━━━━━━━━━━━━━━━━━╇━━━━━━━━━━━━━━━━━━━━━━━━━━━━━╇━━━━━━━━━━━━━━━━━┩\n",
              "│ input_layer_3 (\u001b[38;5;33mInputLayer\u001b[0m)           │ (\u001b[38;5;45mNone\u001b[0m, \u001b[38;5;34m28\u001b[0m, \u001b[38;5;34m28\u001b[0m, \u001b[38;5;34m1\u001b[0m)           │               \u001b[38;5;34m0\u001b[0m │\n",
              "├──────────────────────────────────────┼─────────────────────────────┼─────────────────┤\n",
              "│ conv2d_3 (\u001b[38;5;33mConv2D\u001b[0m)                    │ (\u001b[38;5;45mNone\u001b[0m, \u001b[38;5;34m28\u001b[0m, \u001b[38;5;34m28\u001b[0m, \u001b[38;5;34m32\u001b[0m)          │             \u001b[38;5;34m320\u001b[0m │\n",
              "├──────────────────────────────────────┼─────────────────────────────┼─────────────────┤\n",
              "│ max_pooling2d_3 (\u001b[38;5;33mMaxPooling2D\u001b[0m)       │ (\u001b[38;5;45mNone\u001b[0m, \u001b[38;5;34m14\u001b[0m, \u001b[38;5;34m14\u001b[0m, \u001b[38;5;34m32\u001b[0m)          │               \u001b[38;5;34m0\u001b[0m │\n",
              "├──────────────────────────────────────┼─────────────────────────────┼─────────────────┤\n",
              "│ conv2d_4 (\u001b[38;5;33mConv2D\u001b[0m)                    │ (\u001b[38;5;45mNone\u001b[0m, \u001b[38;5;34m14\u001b[0m, \u001b[38;5;34m14\u001b[0m, \u001b[38;5;34m32\u001b[0m)          │           \u001b[38;5;34m9,248\u001b[0m │\n",
              "├──────────────────────────────────────┼─────────────────────────────┼─────────────────┤\n",
              "│ max_pooling2d_4 (\u001b[38;5;33mMaxPooling2D\u001b[0m)       │ (\u001b[38;5;45mNone\u001b[0m, \u001b[38;5;34m7\u001b[0m, \u001b[38;5;34m7\u001b[0m, \u001b[38;5;34m32\u001b[0m)            │               \u001b[38;5;34m0\u001b[0m │\n",
              "├──────────────────────────────────────┼─────────────────────────────┼─────────────────┤\n",
              "│ conv2d_5 (\u001b[38;5;33mConv2D\u001b[0m)                    │ (\u001b[38;5;45mNone\u001b[0m, \u001b[38;5;34m7\u001b[0m, \u001b[38;5;34m7\u001b[0m, \u001b[38;5;34m4\u001b[0m)             │           \u001b[38;5;34m1,156\u001b[0m │\n",
              "├──────────────────────────────────────┼─────────────────────────────┼─────────────────┤\n",
              "│ max_pooling2d_5 (\u001b[38;5;33mMaxPooling2D\u001b[0m)       │ (\u001b[38;5;45mNone\u001b[0m, \u001b[38;5;34m4\u001b[0m, \u001b[38;5;34m4\u001b[0m, \u001b[38;5;34m4\u001b[0m)             │               \u001b[38;5;34m0\u001b[0m │\n",
              "├──────────────────────────────────────┼─────────────────────────────┼─────────────────┤\n",
              "│ bot (\u001b[38;5;33mFlatten\u001b[0m)                        │ (\u001b[38;5;45mNone\u001b[0m, \u001b[38;5;34m64\u001b[0m)                  │               \u001b[38;5;34m0\u001b[0m │\n",
              "├──────────────────────────────────────┼─────────────────────────────┼─────────────────┤\n",
              "│ botnext0 (\u001b[38;5;33mReshape\u001b[0m)                   │ (\u001b[38;5;45mNone\u001b[0m, \u001b[38;5;34m4\u001b[0m, \u001b[38;5;34m4\u001b[0m, \u001b[38;5;34m4\u001b[0m)             │               \u001b[38;5;34m0\u001b[0m │\n",
              "├──────────────────────────────────────┼─────────────────────────────┼─────────────────┤\n",
              "│ botnext1 (\u001b[38;5;33mConv2D\u001b[0m)                    │ (\u001b[38;5;45mNone\u001b[0m, \u001b[38;5;34m4\u001b[0m, \u001b[38;5;34m4\u001b[0m, \u001b[38;5;34m4\u001b[0m)             │             \u001b[38;5;34m148\u001b[0m │\n",
              "├──────────────────────────────────────┼─────────────────────────────┼─────────────────┤\n",
              "│ botnext2 (\u001b[38;5;33mUpSampling2D\u001b[0m)              │ (\u001b[38;5;45mNone\u001b[0m, \u001b[38;5;34m8\u001b[0m, \u001b[38;5;34m8\u001b[0m, \u001b[38;5;34m4\u001b[0m)             │               \u001b[38;5;34m0\u001b[0m │\n",
              "├──────────────────────────────────────┼─────────────────────────────┼─────────────────┤\n",
              "│ botnext3 (\u001b[38;5;33mConv2D\u001b[0m)                    │ (\u001b[38;5;45mNone\u001b[0m, \u001b[38;5;34m8\u001b[0m, \u001b[38;5;34m8\u001b[0m, \u001b[38;5;34m32\u001b[0m)            │           \u001b[38;5;34m1,184\u001b[0m │\n",
              "├──────────────────────────────────────┼─────────────────────────────┼─────────────────┤\n",
              "│ botnext4 (\u001b[38;5;33mUpSampling2D\u001b[0m)              │ (\u001b[38;5;45mNone\u001b[0m, \u001b[38;5;34m16\u001b[0m, \u001b[38;5;34m16\u001b[0m, \u001b[38;5;34m32\u001b[0m)          │               \u001b[38;5;34m0\u001b[0m │\n",
              "├──────────────────────────────────────┼─────────────────────────────┼─────────────────┤\n",
              "│ botnext5 (\u001b[38;5;33mConv2D\u001b[0m)                    │ (\u001b[38;5;45mNone\u001b[0m, \u001b[38;5;34m14\u001b[0m, \u001b[38;5;34m14\u001b[0m, \u001b[38;5;34m32\u001b[0m)          │           \u001b[38;5;34m9,248\u001b[0m │\n",
              "├──────────────────────────────────────┼─────────────────────────────┼─────────────────┤\n",
              "│ botnext6 (\u001b[38;5;33mUpSampling2D\u001b[0m)              │ (\u001b[38;5;45mNone\u001b[0m, \u001b[38;5;34m28\u001b[0m, \u001b[38;5;34m28\u001b[0m, \u001b[38;5;34m32\u001b[0m)          │               \u001b[38;5;34m0\u001b[0m │\n",
              "├──────────────────────────────────────┼─────────────────────────────┼─────────────────┤\n",
              "│ botnext7 (\u001b[38;5;33mConv2D\u001b[0m)                    │ (\u001b[38;5;45mNone\u001b[0m, \u001b[38;5;34m28\u001b[0m, \u001b[38;5;34m28\u001b[0m, \u001b[38;5;34m1\u001b[0m)           │             \u001b[38;5;34m289\u001b[0m │\n",
              "└──────────────────────────────────────┴─────────────────────────────┴─────────────────┘\n"
            ],
            "text/html": [
              "<pre style=\"white-space:pre;overflow-x:auto;line-height:normal;font-family:Menlo,'DejaVu Sans Mono',consolas,'Courier New',monospace\">┏━━━━━━━━━━━━━━━━━━━━━━━━━━━━━━━━━━━━━━┳━━━━━━━━━━━━━━━━━━━━━━━━━━━━━┳━━━━━━━━━━━━━━━━━┓\n",
              "┃<span style=\"font-weight: bold\"> Layer (type)                         </span>┃<span style=\"font-weight: bold\"> Output Shape                </span>┃<span style=\"font-weight: bold\">         Param # </span>┃\n",
              "┡━━━━━━━━━━━━━━━━━━━━━━━━━━━━━━━━━━━━━━╇━━━━━━━━━━━━━━━━━━━━━━━━━━━━━╇━━━━━━━━━━━━━━━━━┩\n",
              "│ input_layer_3 (<span style=\"color: #0087ff; text-decoration-color: #0087ff\">InputLayer</span>)           │ (<span style=\"color: #00d7ff; text-decoration-color: #00d7ff\">None</span>, <span style=\"color: #00af00; text-decoration-color: #00af00\">28</span>, <span style=\"color: #00af00; text-decoration-color: #00af00\">28</span>, <span style=\"color: #00af00; text-decoration-color: #00af00\">1</span>)           │               <span style=\"color: #00af00; text-decoration-color: #00af00\">0</span> │\n",
              "├──────────────────────────────────────┼─────────────────────────────┼─────────────────┤\n",
              "│ conv2d_3 (<span style=\"color: #0087ff; text-decoration-color: #0087ff\">Conv2D</span>)                    │ (<span style=\"color: #00d7ff; text-decoration-color: #00d7ff\">None</span>, <span style=\"color: #00af00; text-decoration-color: #00af00\">28</span>, <span style=\"color: #00af00; text-decoration-color: #00af00\">28</span>, <span style=\"color: #00af00; text-decoration-color: #00af00\">32</span>)          │             <span style=\"color: #00af00; text-decoration-color: #00af00\">320</span> │\n",
              "├──────────────────────────────────────┼─────────────────────────────┼─────────────────┤\n",
              "│ max_pooling2d_3 (<span style=\"color: #0087ff; text-decoration-color: #0087ff\">MaxPooling2D</span>)       │ (<span style=\"color: #00d7ff; text-decoration-color: #00d7ff\">None</span>, <span style=\"color: #00af00; text-decoration-color: #00af00\">14</span>, <span style=\"color: #00af00; text-decoration-color: #00af00\">14</span>, <span style=\"color: #00af00; text-decoration-color: #00af00\">32</span>)          │               <span style=\"color: #00af00; text-decoration-color: #00af00\">0</span> │\n",
              "├──────────────────────────────────────┼─────────────────────────────┼─────────────────┤\n",
              "│ conv2d_4 (<span style=\"color: #0087ff; text-decoration-color: #0087ff\">Conv2D</span>)                    │ (<span style=\"color: #00d7ff; text-decoration-color: #00d7ff\">None</span>, <span style=\"color: #00af00; text-decoration-color: #00af00\">14</span>, <span style=\"color: #00af00; text-decoration-color: #00af00\">14</span>, <span style=\"color: #00af00; text-decoration-color: #00af00\">32</span>)          │           <span style=\"color: #00af00; text-decoration-color: #00af00\">9,248</span> │\n",
              "├──────────────────────────────────────┼─────────────────────────────┼─────────────────┤\n",
              "│ max_pooling2d_4 (<span style=\"color: #0087ff; text-decoration-color: #0087ff\">MaxPooling2D</span>)       │ (<span style=\"color: #00d7ff; text-decoration-color: #00d7ff\">None</span>, <span style=\"color: #00af00; text-decoration-color: #00af00\">7</span>, <span style=\"color: #00af00; text-decoration-color: #00af00\">7</span>, <span style=\"color: #00af00; text-decoration-color: #00af00\">32</span>)            │               <span style=\"color: #00af00; text-decoration-color: #00af00\">0</span> │\n",
              "├──────────────────────────────────────┼─────────────────────────────┼─────────────────┤\n",
              "│ conv2d_5 (<span style=\"color: #0087ff; text-decoration-color: #0087ff\">Conv2D</span>)                    │ (<span style=\"color: #00d7ff; text-decoration-color: #00d7ff\">None</span>, <span style=\"color: #00af00; text-decoration-color: #00af00\">7</span>, <span style=\"color: #00af00; text-decoration-color: #00af00\">7</span>, <span style=\"color: #00af00; text-decoration-color: #00af00\">4</span>)             │           <span style=\"color: #00af00; text-decoration-color: #00af00\">1,156</span> │\n",
              "├──────────────────────────────────────┼─────────────────────────────┼─────────────────┤\n",
              "│ max_pooling2d_5 (<span style=\"color: #0087ff; text-decoration-color: #0087ff\">MaxPooling2D</span>)       │ (<span style=\"color: #00d7ff; text-decoration-color: #00d7ff\">None</span>, <span style=\"color: #00af00; text-decoration-color: #00af00\">4</span>, <span style=\"color: #00af00; text-decoration-color: #00af00\">4</span>, <span style=\"color: #00af00; text-decoration-color: #00af00\">4</span>)             │               <span style=\"color: #00af00; text-decoration-color: #00af00\">0</span> │\n",
              "├──────────────────────────────────────┼─────────────────────────────┼─────────────────┤\n",
              "│ bot (<span style=\"color: #0087ff; text-decoration-color: #0087ff\">Flatten</span>)                        │ (<span style=\"color: #00d7ff; text-decoration-color: #00d7ff\">None</span>, <span style=\"color: #00af00; text-decoration-color: #00af00\">64</span>)                  │               <span style=\"color: #00af00; text-decoration-color: #00af00\">0</span> │\n",
              "├──────────────────────────────────────┼─────────────────────────────┼─────────────────┤\n",
              "│ botnext0 (<span style=\"color: #0087ff; text-decoration-color: #0087ff\">Reshape</span>)                   │ (<span style=\"color: #00d7ff; text-decoration-color: #00d7ff\">None</span>, <span style=\"color: #00af00; text-decoration-color: #00af00\">4</span>, <span style=\"color: #00af00; text-decoration-color: #00af00\">4</span>, <span style=\"color: #00af00; text-decoration-color: #00af00\">4</span>)             │               <span style=\"color: #00af00; text-decoration-color: #00af00\">0</span> │\n",
              "├──────────────────────────────────────┼─────────────────────────────┼─────────────────┤\n",
              "│ botnext1 (<span style=\"color: #0087ff; text-decoration-color: #0087ff\">Conv2D</span>)                    │ (<span style=\"color: #00d7ff; text-decoration-color: #00d7ff\">None</span>, <span style=\"color: #00af00; text-decoration-color: #00af00\">4</span>, <span style=\"color: #00af00; text-decoration-color: #00af00\">4</span>, <span style=\"color: #00af00; text-decoration-color: #00af00\">4</span>)             │             <span style=\"color: #00af00; text-decoration-color: #00af00\">148</span> │\n",
              "├──────────────────────────────────────┼─────────────────────────────┼─────────────────┤\n",
              "│ botnext2 (<span style=\"color: #0087ff; text-decoration-color: #0087ff\">UpSampling2D</span>)              │ (<span style=\"color: #00d7ff; text-decoration-color: #00d7ff\">None</span>, <span style=\"color: #00af00; text-decoration-color: #00af00\">8</span>, <span style=\"color: #00af00; text-decoration-color: #00af00\">8</span>, <span style=\"color: #00af00; text-decoration-color: #00af00\">4</span>)             │               <span style=\"color: #00af00; text-decoration-color: #00af00\">0</span> │\n",
              "├──────────────────────────────────────┼─────────────────────────────┼─────────────────┤\n",
              "│ botnext3 (<span style=\"color: #0087ff; text-decoration-color: #0087ff\">Conv2D</span>)                    │ (<span style=\"color: #00d7ff; text-decoration-color: #00d7ff\">None</span>, <span style=\"color: #00af00; text-decoration-color: #00af00\">8</span>, <span style=\"color: #00af00; text-decoration-color: #00af00\">8</span>, <span style=\"color: #00af00; text-decoration-color: #00af00\">32</span>)            │           <span style=\"color: #00af00; text-decoration-color: #00af00\">1,184</span> │\n",
              "├──────────────────────────────────────┼─────────────────────────────┼─────────────────┤\n",
              "│ botnext4 (<span style=\"color: #0087ff; text-decoration-color: #0087ff\">UpSampling2D</span>)              │ (<span style=\"color: #00d7ff; text-decoration-color: #00d7ff\">None</span>, <span style=\"color: #00af00; text-decoration-color: #00af00\">16</span>, <span style=\"color: #00af00; text-decoration-color: #00af00\">16</span>, <span style=\"color: #00af00; text-decoration-color: #00af00\">32</span>)          │               <span style=\"color: #00af00; text-decoration-color: #00af00\">0</span> │\n",
              "├──────────────────────────────────────┼─────────────────────────────┼─────────────────┤\n",
              "│ botnext5 (<span style=\"color: #0087ff; text-decoration-color: #0087ff\">Conv2D</span>)                    │ (<span style=\"color: #00d7ff; text-decoration-color: #00d7ff\">None</span>, <span style=\"color: #00af00; text-decoration-color: #00af00\">14</span>, <span style=\"color: #00af00; text-decoration-color: #00af00\">14</span>, <span style=\"color: #00af00; text-decoration-color: #00af00\">32</span>)          │           <span style=\"color: #00af00; text-decoration-color: #00af00\">9,248</span> │\n",
              "├──────────────────────────────────────┼─────────────────────────────┼─────────────────┤\n",
              "│ botnext6 (<span style=\"color: #0087ff; text-decoration-color: #0087ff\">UpSampling2D</span>)              │ (<span style=\"color: #00d7ff; text-decoration-color: #00d7ff\">None</span>, <span style=\"color: #00af00; text-decoration-color: #00af00\">28</span>, <span style=\"color: #00af00; text-decoration-color: #00af00\">28</span>, <span style=\"color: #00af00; text-decoration-color: #00af00\">32</span>)          │               <span style=\"color: #00af00; text-decoration-color: #00af00\">0</span> │\n",
              "├──────────────────────────────────────┼─────────────────────────────┼─────────────────┤\n",
              "│ botnext7 (<span style=\"color: #0087ff; text-decoration-color: #0087ff\">Conv2D</span>)                    │ (<span style=\"color: #00d7ff; text-decoration-color: #00d7ff\">None</span>, <span style=\"color: #00af00; text-decoration-color: #00af00\">28</span>, <span style=\"color: #00af00; text-decoration-color: #00af00\">28</span>, <span style=\"color: #00af00; text-decoration-color: #00af00\">1</span>)           │             <span style=\"color: #00af00; text-decoration-color: #00af00\">289</span> │\n",
              "└──────────────────────────────────────┴─────────────────────────────┴─────────────────┘\n",
              "</pre>\n"
            ]
          },
          "metadata": {}
        },
        {
          "output_type": "display_data",
          "data": {
            "text/plain": [
              "\u001b[1m Total params: \u001b[0m\u001b[38;5;34m21,593\u001b[0m (84.35 KB)\n"
            ],
            "text/html": [
              "<pre style=\"white-space:pre;overflow-x:auto;line-height:normal;font-family:Menlo,'DejaVu Sans Mono',consolas,'Courier New',monospace\"><span style=\"font-weight: bold\"> Total params: </span><span style=\"color: #00af00; text-decoration-color: #00af00\">21,593</span> (84.35 KB)\n",
              "</pre>\n"
            ]
          },
          "metadata": {}
        },
        {
          "output_type": "display_data",
          "data": {
            "text/plain": [
              "\u001b[1m Trainable params: \u001b[0m\u001b[38;5;34m21,593\u001b[0m (84.35 KB)\n"
            ],
            "text/html": [
              "<pre style=\"white-space:pre;overflow-x:auto;line-height:normal;font-family:Menlo,'DejaVu Sans Mono',consolas,'Courier New',monospace\"><span style=\"font-weight: bold\"> Trainable params: </span><span style=\"color: #00af00; text-decoration-color: #00af00\">21,593</span> (84.35 KB)\n",
              "</pre>\n"
            ]
          },
          "metadata": {}
        },
        {
          "output_type": "display_data",
          "data": {
            "text/plain": [
              "\u001b[1m Non-trainable params: \u001b[0m\u001b[38;5;34m0\u001b[0m (0.00 B)\n"
            ],
            "text/html": [
              "<pre style=\"white-space:pre;overflow-x:auto;line-height:normal;font-family:Menlo,'DejaVu Sans Mono',consolas,'Courier New',monospace\"><span style=\"font-weight: bold\"> Non-trainable params: </span><span style=\"color: #00af00; text-decoration-color: #00af00\">0</span> (0.00 B)\n",
              "</pre>\n"
            ]
          },
          "metadata": {}
        }
      ],
      "source": [
        "input_layer_cnv = Input(shape = (28,28,1))\n",
        "ae_cnv_en = Conv2D (32, (3,3), activation = \"relu\", padding = \"same\", kernel_initializer=\"he_normal\")(input_layer_cnv)\n",
        "ae_cnv_en = MaxPooling2D ((2,2), padding=\"same\")(ae_cnv_en)\n",
        "\n",
        "ae_cnv_en = Conv2D (32, (3,3), activation = \"relu\", padding = \"same\")(ae_cnv_en)\n",
        "ae_cnv_en = MaxPooling2D ((2,2), padding=\"same\")(ae_cnv_en)\n",
        "\n",
        "ae_cnv_en = Conv2D (4, (3,3), activation = \"relu\", padding = \"same\")(ae_cnv_en)\n",
        "ae_cnv_en = MaxPooling2D ((2,2), padding=\"same\")(ae_cnv_en)\n",
        "\n",
        "ae_cnv_en = Flatten(name = \"bot\")(ae_cnv_en)\n",
        "\n",
        "ae_cnv_de = Reshape((4,4,4), input_shape= (64,), name= \"botnext0\")(ae_cnv_en)\n",
        "ae_cnv_de = Conv2D (4, (3,3), activation = \"relu\", padding = \"same\",name= \"botnext1\")(ae_cnv_de)\n",
        "ae_cnv_de = UpSampling2D ((2,2),name= \"botnext2\")(ae_cnv_de)\n",
        "\n",
        "ae_cnv_de = Conv2D (32, (3,3), activation = \"relu\", padding = \"same\", name= \"botnext3\")(ae_cnv_de)\n",
        "ae_cnv_de = UpSampling2D ((2,2), name= \"botnext4\")(ae_cnv_de)\n",
        "\n",
        "ae_cnv_de = Conv2D (32, (3,3), activation = \"relu\", padding = \"valid\",name= \"botnext5\")(ae_cnv_de)\n",
        "ae_cnv_de = UpSampling2D ((2,2), name= \"botnext6\")(ae_cnv_de)\n",
        "\n",
        "ae_cnv_de = Conv2D (1, (3,3), activation = \"sigmoid\", padding = \"same\",name = \"botnext7\")(ae_cnv_de)\n",
        "Ae_Conv = Model(inputs = input_layer_cnv, outputs = ae_cnv_de)\n",
        "\n",
        "Ae_Conv.compile(optimizer=tf.keras.optimizers.SGD(0.09,clipvalue=2.5), loss='binary_crossentropy', metrics = [\"accuracy\"])\n",
        "# Ae_Conv.compile(optimizer=tf.keras.optimizers.Adadelta(0.1,clipvalue=2), loss='binary_crossentropy', metrics = [\"accuracy\"])\n",
        "Ae_Conv.summary()"
      ]
    },
    {
      "cell_type": "markdown",
      "source": [
        "# **Encoder** 🔐➡️"
      ],
      "metadata": {
        "id": "FRLnR6Xed6eE"
      }
    },
    {
      "cell_type": "code",
      "execution_count": 21,
      "metadata": {
        "id": "1oBHW3Cy5twv",
        "colab": {
          "base_uri": "https://localhost:8080/",
          "height": 397
        },
        "outputId": "6ff637d1-91c9-4bc4-c4ed-20f9d2169f7e"
      },
      "outputs": [
        {
          "output_type": "display_data",
          "data": {
            "text/plain": [
              "\u001b[1mModel: \"Conve_AE_encoder\"\u001b[0m\n"
            ],
            "text/html": [
              "<pre style=\"white-space:pre;overflow-x:auto;line-height:normal;font-family:Menlo,'DejaVu Sans Mono',consolas,'Courier New',monospace\"><span style=\"font-weight: bold\">Model: \"Conve_AE_encoder\"</span>\n",
              "</pre>\n"
            ]
          },
          "metadata": {}
        },
        {
          "output_type": "display_data",
          "data": {
            "text/plain": [
              "┏━━━━━━━━━━━━━━━━━━━━━━━━━━━━━━━━━━━━━━┳━━━━━━━━━━━━━━━━━━━━━━━━━━━━━┳━━━━━━━━━━━━━━━━━┓\n",
              "┃\u001b[1m \u001b[0m\u001b[1mLayer (type)                        \u001b[0m\u001b[1m \u001b[0m┃\u001b[1m \u001b[0m\u001b[1mOutput Shape               \u001b[0m\u001b[1m \u001b[0m┃\u001b[1m \u001b[0m\u001b[1m        Param #\u001b[0m\u001b[1m \u001b[0m┃\n",
              "┡━━━━━━━━━━━━━━━━━━━━━━━━━━━━━━━━━━━━━━╇━━━━━━━━━━━━━━━━━━━━━━━━━━━━━╇━━━━━━━━━━━━━━━━━┩\n",
              "│ input_layer_3 (\u001b[38;5;33mInputLayer\u001b[0m)           │ (\u001b[38;5;45mNone\u001b[0m, \u001b[38;5;34m28\u001b[0m, \u001b[38;5;34m28\u001b[0m, \u001b[38;5;34m1\u001b[0m)           │               \u001b[38;5;34m0\u001b[0m │\n",
              "├──────────────────────────────────────┼─────────────────────────────┼─────────────────┤\n",
              "│ conv2d_3 (\u001b[38;5;33mConv2D\u001b[0m)                    │ (\u001b[38;5;45mNone\u001b[0m, \u001b[38;5;34m28\u001b[0m, \u001b[38;5;34m28\u001b[0m, \u001b[38;5;34m32\u001b[0m)          │             \u001b[38;5;34m320\u001b[0m │\n",
              "├──────────────────────────────────────┼─────────────────────────────┼─────────────────┤\n",
              "│ max_pooling2d_3 (\u001b[38;5;33mMaxPooling2D\u001b[0m)       │ (\u001b[38;5;45mNone\u001b[0m, \u001b[38;5;34m14\u001b[0m, \u001b[38;5;34m14\u001b[0m, \u001b[38;5;34m32\u001b[0m)          │               \u001b[38;5;34m0\u001b[0m │\n",
              "├──────────────────────────────────────┼─────────────────────────────┼─────────────────┤\n",
              "│ conv2d_4 (\u001b[38;5;33mConv2D\u001b[0m)                    │ (\u001b[38;5;45mNone\u001b[0m, \u001b[38;5;34m14\u001b[0m, \u001b[38;5;34m14\u001b[0m, \u001b[38;5;34m32\u001b[0m)          │           \u001b[38;5;34m9,248\u001b[0m │\n",
              "├──────────────────────────────────────┼─────────────────────────────┼─────────────────┤\n",
              "│ max_pooling2d_4 (\u001b[38;5;33mMaxPooling2D\u001b[0m)       │ (\u001b[38;5;45mNone\u001b[0m, \u001b[38;5;34m7\u001b[0m, \u001b[38;5;34m7\u001b[0m, \u001b[38;5;34m32\u001b[0m)            │               \u001b[38;5;34m0\u001b[0m │\n",
              "├──────────────────────────────────────┼─────────────────────────────┼─────────────────┤\n",
              "│ conv2d_5 (\u001b[38;5;33mConv2D\u001b[0m)                    │ (\u001b[38;5;45mNone\u001b[0m, \u001b[38;5;34m7\u001b[0m, \u001b[38;5;34m7\u001b[0m, \u001b[38;5;34m4\u001b[0m)             │           \u001b[38;5;34m1,156\u001b[0m │\n",
              "├──────────────────────────────────────┼─────────────────────────────┼─────────────────┤\n",
              "│ max_pooling2d_5 (\u001b[38;5;33mMaxPooling2D\u001b[0m)       │ (\u001b[38;5;45mNone\u001b[0m, \u001b[38;5;34m4\u001b[0m, \u001b[38;5;34m4\u001b[0m, \u001b[38;5;34m4\u001b[0m)             │               \u001b[38;5;34m0\u001b[0m │\n",
              "├──────────────────────────────────────┼─────────────────────────────┼─────────────────┤\n",
              "│ bot (\u001b[38;5;33mFlatten\u001b[0m)                        │ (\u001b[38;5;45mNone\u001b[0m, \u001b[38;5;34m64\u001b[0m)                  │               \u001b[38;5;34m0\u001b[0m │\n",
              "└──────────────────────────────────────┴─────────────────────────────┴─────────────────┘\n"
            ],
            "text/html": [
              "<pre style=\"white-space:pre;overflow-x:auto;line-height:normal;font-family:Menlo,'DejaVu Sans Mono',consolas,'Courier New',monospace\">┏━━━━━━━━━━━━━━━━━━━━━━━━━━━━━━━━━━━━━━┳━━━━━━━━━━━━━━━━━━━━━━━━━━━━━┳━━━━━━━━━━━━━━━━━┓\n",
              "┃<span style=\"font-weight: bold\"> Layer (type)                         </span>┃<span style=\"font-weight: bold\"> Output Shape                </span>┃<span style=\"font-weight: bold\">         Param # </span>┃\n",
              "┡━━━━━━━━━━━━━━━━━━━━━━━━━━━━━━━━━━━━━━╇━━━━━━━━━━━━━━━━━━━━━━━━━━━━━╇━━━━━━━━━━━━━━━━━┩\n",
              "│ input_layer_3 (<span style=\"color: #0087ff; text-decoration-color: #0087ff\">InputLayer</span>)           │ (<span style=\"color: #00d7ff; text-decoration-color: #00d7ff\">None</span>, <span style=\"color: #00af00; text-decoration-color: #00af00\">28</span>, <span style=\"color: #00af00; text-decoration-color: #00af00\">28</span>, <span style=\"color: #00af00; text-decoration-color: #00af00\">1</span>)           │               <span style=\"color: #00af00; text-decoration-color: #00af00\">0</span> │\n",
              "├──────────────────────────────────────┼─────────────────────────────┼─────────────────┤\n",
              "│ conv2d_3 (<span style=\"color: #0087ff; text-decoration-color: #0087ff\">Conv2D</span>)                    │ (<span style=\"color: #00d7ff; text-decoration-color: #00d7ff\">None</span>, <span style=\"color: #00af00; text-decoration-color: #00af00\">28</span>, <span style=\"color: #00af00; text-decoration-color: #00af00\">28</span>, <span style=\"color: #00af00; text-decoration-color: #00af00\">32</span>)          │             <span style=\"color: #00af00; text-decoration-color: #00af00\">320</span> │\n",
              "├──────────────────────────────────────┼─────────────────────────────┼─────────────────┤\n",
              "│ max_pooling2d_3 (<span style=\"color: #0087ff; text-decoration-color: #0087ff\">MaxPooling2D</span>)       │ (<span style=\"color: #00d7ff; text-decoration-color: #00d7ff\">None</span>, <span style=\"color: #00af00; text-decoration-color: #00af00\">14</span>, <span style=\"color: #00af00; text-decoration-color: #00af00\">14</span>, <span style=\"color: #00af00; text-decoration-color: #00af00\">32</span>)          │               <span style=\"color: #00af00; text-decoration-color: #00af00\">0</span> │\n",
              "├──────────────────────────────────────┼─────────────────────────────┼─────────────────┤\n",
              "│ conv2d_4 (<span style=\"color: #0087ff; text-decoration-color: #0087ff\">Conv2D</span>)                    │ (<span style=\"color: #00d7ff; text-decoration-color: #00d7ff\">None</span>, <span style=\"color: #00af00; text-decoration-color: #00af00\">14</span>, <span style=\"color: #00af00; text-decoration-color: #00af00\">14</span>, <span style=\"color: #00af00; text-decoration-color: #00af00\">32</span>)          │           <span style=\"color: #00af00; text-decoration-color: #00af00\">9,248</span> │\n",
              "├──────────────────────────────────────┼─────────────────────────────┼─────────────────┤\n",
              "│ max_pooling2d_4 (<span style=\"color: #0087ff; text-decoration-color: #0087ff\">MaxPooling2D</span>)       │ (<span style=\"color: #00d7ff; text-decoration-color: #00d7ff\">None</span>, <span style=\"color: #00af00; text-decoration-color: #00af00\">7</span>, <span style=\"color: #00af00; text-decoration-color: #00af00\">7</span>, <span style=\"color: #00af00; text-decoration-color: #00af00\">32</span>)            │               <span style=\"color: #00af00; text-decoration-color: #00af00\">0</span> │\n",
              "├──────────────────────────────────────┼─────────────────────────────┼─────────────────┤\n",
              "│ conv2d_5 (<span style=\"color: #0087ff; text-decoration-color: #0087ff\">Conv2D</span>)                    │ (<span style=\"color: #00d7ff; text-decoration-color: #00d7ff\">None</span>, <span style=\"color: #00af00; text-decoration-color: #00af00\">7</span>, <span style=\"color: #00af00; text-decoration-color: #00af00\">7</span>, <span style=\"color: #00af00; text-decoration-color: #00af00\">4</span>)             │           <span style=\"color: #00af00; text-decoration-color: #00af00\">1,156</span> │\n",
              "├──────────────────────────────────────┼─────────────────────────────┼─────────────────┤\n",
              "│ max_pooling2d_5 (<span style=\"color: #0087ff; text-decoration-color: #0087ff\">MaxPooling2D</span>)       │ (<span style=\"color: #00d7ff; text-decoration-color: #00d7ff\">None</span>, <span style=\"color: #00af00; text-decoration-color: #00af00\">4</span>, <span style=\"color: #00af00; text-decoration-color: #00af00\">4</span>, <span style=\"color: #00af00; text-decoration-color: #00af00\">4</span>)             │               <span style=\"color: #00af00; text-decoration-color: #00af00\">0</span> │\n",
              "├──────────────────────────────────────┼─────────────────────────────┼─────────────────┤\n",
              "│ bot (<span style=\"color: #0087ff; text-decoration-color: #0087ff\">Flatten</span>)                        │ (<span style=\"color: #00d7ff; text-decoration-color: #00d7ff\">None</span>, <span style=\"color: #00af00; text-decoration-color: #00af00\">64</span>)                  │               <span style=\"color: #00af00; text-decoration-color: #00af00\">0</span> │\n",
              "└──────────────────────────────────────┴─────────────────────────────┴─────────────────┘\n",
              "</pre>\n"
            ]
          },
          "metadata": {}
        },
        {
          "output_type": "display_data",
          "data": {
            "text/plain": [
              "\u001b[1m Total params: \u001b[0m\u001b[38;5;34m10,724\u001b[0m (41.89 KB)\n"
            ],
            "text/html": [
              "<pre style=\"white-space:pre;overflow-x:auto;line-height:normal;font-family:Menlo,'DejaVu Sans Mono',consolas,'Courier New',monospace\"><span style=\"font-weight: bold\"> Total params: </span><span style=\"color: #00af00; text-decoration-color: #00af00\">10,724</span> (41.89 KB)\n",
              "</pre>\n"
            ]
          },
          "metadata": {}
        },
        {
          "output_type": "display_data",
          "data": {
            "text/plain": [
              "\u001b[1m Trainable params: \u001b[0m\u001b[38;5;34m10,724\u001b[0m (41.89 KB)\n"
            ],
            "text/html": [
              "<pre style=\"white-space:pre;overflow-x:auto;line-height:normal;font-family:Menlo,'DejaVu Sans Mono',consolas,'Courier New',monospace\"><span style=\"font-weight: bold\"> Trainable params: </span><span style=\"color: #00af00; text-decoration-color: #00af00\">10,724</span> (41.89 KB)\n",
              "</pre>\n"
            ]
          },
          "metadata": {}
        },
        {
          "output_type": "display_data",
          "data": {
            "text/plain": [
              "\u001b[1m Non-trainable params: \u001b[0m\u001b[38;5;34m0\u001b[0m (0.00 B)\n"
            ],
            "text/html": [
              "<pre style=\"white-space:pre;overflow-x:auto;line-height:normal;font-family:Menlo,'DejaVu Sans Mono',consolas,'Courier New',monospace\"><span style=\"font-weight: bold\"> Non-trainable params: </span><span style=\"color: #00af00; text-decoration-color: #00af00\">0</span> (0.00 B)\n",
              "</pre>\n"
            ]
          },
          "metadata": {}
        }
      ],
      "source": [
        "ae_conv_encoder = Model(inputs = input_layer_cnv, outputs = Ae_Conv.get_layer('bot').output, name ='Conve_AE_encoder')\n",
        "ae_conv_encoder.summary()"
      ]
    },
    {
      "cell_type": "markdown",
      "source": [
        "# **DECODER** 🔓⬅️"
      ],
      "metadata": {
        "id": "gEovSd5YXnI6"
      }
    },
    {
      "cell_type": "code",
      "source": [
        "encode_inp_cnv = Input(shape= (64,))\n",
        "tmp_dec = Ae_Conv.get_layer('botnext0')(encode_inp_cnv)\n",
        "for i in range(1,8):\n",
        "  st = 'botnext{}'.format(i)\n",
        "  tmp_dec = Ae_Conv.get_layer(st)(tmp_dec)\n",
        "\n",
        "ae_conv_decoder = Model(inputs = encode_inp_cnv, outputs = tmp_dec, name= 'Conv_AE_decoder')\n",
        "ae_conv_decoder.summary()"
      ],
      "metadata": {
        "id": "aN0y0zZWBGPN",
        "colab": {
          "base_uri": "https://localhost:8080/",
          "height": 429
        },
        "outputId": "066b3787-6499-48d5-b26d-66eed08a0833"
      },
      "execution_count": 22,
      "outputs": [
        {
          "output_type": "display_data",
          "data": {
            "text/plain": [
              "\u001b[1mModel: \"Conv_AE_decoder\"\u001b[0m\n"
            ],
            "text/html": [
              "<pre style=\"white-space:pre;overflow-x:auto;line-height:normal;font-family:Menlo,'DejaVu Sans Mono',consolas,'Courier New',monospace\"><span style=\"font-weight: bold\">Model: \"Conv_AE_decoder\"</span>\n",
              "</pre>\n"
            ]
          },
          "metadata": {}
        },
        {
          "output_type": "display_data",
          "data": {
            "text/plain": [
              "┏━━━━━━━━━━━━━━━━━━━━━━━━━━━━━━━━━━━━━━┳━━━━━━━━━━━━━━━━━━━━━━━━━━━━━┳━━━━━━━━━━━━━━━━━┓\n",
              "┃\u001b[1m \u001b[0m\u001b[1mLayer (type)                        \u001b[0m\u001b[1m \u001b[0m┃\u001b[1m \u001b[0m\u001b[1mOutput Shape               \u001b[0m\u001b[1m \u001b[0m┃\u001b[1m \u001b[0m\u001b[1m        Param #\u001b[0m\u001b[1m \u001b[0m┃\n",
              "┡━━━━━━━━━━━━━━━━━━━━━━━━━━━━━━━━━━━━━━╇━━━━━━━━━━━━━━━━━━━━━━━━━━━━━╇━━━━━━━━━━━━━━━━━┩\n",
              "│ input_layer_4 (\u001b[38;5;33mInputLayer\u001b[0m)           │ (\u001b[38;5;45mNone\u001b[0m, \u001b[38;5;34m64\u001b[0m)                  │               \u001b[38;5;34m0\u001b[0m │\n",
              "├──────────────────────────────────────┼─────────────────────────────┼─────────────────┤\n",
              "│ botnext0 (\u001b[38;5;33mReshape\u001b[0m)                   │ (\u001b[38;5;45mNone\u001b[0m, \u001b[38;5;34m4\u001b[0m, \u001b[38;5;34m4\u001b[0m, \u001b[38;5;34m4\u001b[0m)             │               \u001b[38;5;34m0\u001b[0m │\n",
              "├──────────────────────────────────────┼─────────────────────────────┼─────────────────┤\n",
              "│ botnext1 (\u001b[38;5;33mConv2D\u001b[0m)                    │ (\u001b[38;5;45mNone\u001b[0m, \u001b[38;5;34m4\u001b[0m, \u001b[38;5;34m4\u001b[0m, \u001b[38;5;34m4\u001b[0m)             │             \u001b[38;5;34m148\u001b[0m │\n",
              "├──────────────────────────────────────┼─────────────────────────────┼─────────────────┤\n",
              "│ botnext2 (\u001b[38;5;33mUpSampling2D\u001b[0m)              │ (\u001b[38;5;45mNone\u001b[0m, \u001b[38;5;34m8\u001b[0m, \u001b[38;5;34m8\u001b[0m, \u001b[38;5;34m4\u001b[0m)             │               \u001b[38;5;34m0\u001b[0m │\n",
              "├──────────────────────────────────────┼─────────────────────────────┼─────────────────┤\n",
              "│ botnext3 (\u001b[38;5;33mConv2D\u001b[0m)                    │ (\u001b[38;5;45mNone\u001b[0m, \u001b[38;5;34m8\u001b[0m, \u001b[38;5;34m8\u001b[0m, \u001b[38;5;34m32\u001b[0m)            │           \u001b[38;5;34m1,184\u001b[0m │\n",
              "├──────────────────────────────────────┼─────────────────────────────┼─────────────────┤\n",
              "│ botnext4 (\u001b[38;5;33mUpSampling2D\u001b[0m)              │ (\u001b[38;5;45mNone\u001b[0m, \u001b[38;5;34m16\u001b[0m, \u001b[38;5;34m16\u001b[0m, \u001b[38;5;34m32\u001b[0m)          │               \u001b[38;5;34m0\u001b[0m │\n",
              "├──────────────────────────────────────┼─────────────────────────────┼─────────────────┤\n",
              "│ botnext5 (\u001b[38;5;33mConv2D\u001b[0m)                    │ (\u001b[38;5;45mNone\u001b[0m, \u001b[38;5;34m14\u001b[0m, \u001b[38;5;34m14\u001b[0m, \u001b[38;5;34m32\u001b[0m)          │           \u001b[38;5;34m9,248\u001b[0m │\n",
              "├──────────────────────────────────────┼─────────────────────────────┼─────────────────┤\n",
              "│ botnext6 (\u001b[38;5;33mUpSampling2D\u001b[0m)              │ (\u001b[38;5;45mNone\u001b[0m, \u001b[38;5;34m28\u001b[0m, \u001b[38;5;34m28\u001b[0m, \u001b[38;5;34m32\u001b[0m)          │               \u001b[38;5;34m0\u001b[0m │\n",
              "├──────────────────────────────────────┼─────────────────────────────┼─────────────────┤\n",
              "│ botnext7 (\u001b[38;5;33mConv2D\u001b[0m)                    │ (\u001b[38;5;45mNone\u001b[0m, \u001b[38;5;34m28\u001b[0m, \u001b[38;5;34m28\u001b[0m, \u001b[38;5;34m1\u001b[0m)           │             \u001b[38;5;34m289\u001b[0m │\n",
              "└──────────────────────────────────────┴─────────────────────────────┴─────────────────┘\n"
            ],
            "text/html": [
              "<pre style=\"white-space:pre;overflow-x:auto;line-height:normal;font-family:Menlo,'DejaVu Sans Mono',consolas,'Courier New',monospace\">┏━━━━━━━━━━━━━━━━━━━━━━━━━━━━━━━━━━━━━━┳━━━━━━━━━━━━━━━━━━━━━━━━━━━━━┳━━━━━━━━━━━━━━━━━┓\n",
              "┃<span style=\"font-weight: bold\"> Layer (type)                         </span>┃<span style=\"font-weight: bold\"> Output Shape                </span>┃<span style=\"font-weight: bold\">         Param # </span>┃\n",
              "┡━━━━━━━━━━━━━━━━━━━━━━━━━━━━━━━━━━━━━━╇━━━━━━━━━━━━━━━━━━━━━━━━━━━━━╇━━━━━━━━━━━━━━━━━┩\n",
              "│ input_layer_4 (<span style=\"color: #0087ff; text-decoration-color: #0087ff\">InputLayer</span>)           │ (<span style=\"color: #00d7ff; text-decoration-color: #00d7ff\">None</span>, <span style=\"color: #00af00; text-decoration-color: #00af00\">64</span>)                  │               <span style=\"color: #00af00; text-decoration-color: #00af00\">0</span> │\n",
              "├──────────────────────────────────────┼─────────────────────────────┼─────────────────┤\n",
              "│ botnext0 (<span style=\"color: #0087ff; text-decoration-color: #0087ff\">Reshape</span>)                   │ (<span style=\"color: #00d7ff; text-decoration-color: #00d7ff\">None</span>, <span style=\"color: #00af00; text-decoration-color: #00af00\">4</span>, <span style=\"color: #00af00; text-decoration-color: #00af00\">4</span>, <span style=\"color: #00af00; text-decoration-color: #00af00\">4</span>)             │               <span style=\"color: #00af00; text-decoration-color: #00af00\">0</span> │\n",
              "├──────────────────────────────────────┼─────────────────────────────┼─────────────────┤\n",
              "│ botnext1 (<span style=\"color: #0087ff; text-decoration-color: #0087ff\">Conv2D</span>)                    │ (<span style=\"color: #00d7ff; text-decoration-color: #00d7ff\">None</span>, <span style=\"color: #00af00; text-decoration-color: #00af00\">4</span>, <span style=\"color: #00af00; text-decoration-color: #00af00\">4</span>, <span style=\"color: #00af00; text-decoration-color: #00af00\">4</span>)             │             <span style=\"color: #00af00; text-decoration-color: #00af00\">148</span> │\n",
              "├──────────────────────────────────────┼─────────────────────────────┼─────────────────┤\n",
              "│ botnext2 (<span style=\"color: #0087ff; text-decoration-color: #0087ff\">UpSampling2D</span>)              │ (<span style=\"color: #00d7ff; text-decoration-color: #00d7ff\">None</span>, <span style=\"color: #00af00; text-decoration-color: #00af00\">8</span>, <span style=\"color: #00af00; text-decoration-color: #00af00\">8</span>, <span style=\"color: #00af00; text-decoration-color: #00af00\">4</span>)             │               <span style=\"color: #00af00; text-decoration-color: #00af00\">0</span> │\n",
              "├──────────────────────────────────────┼─────────────────────────────┼─────────────────┤\n",
              "│ botnext3 (<span style=\"color: #0087ff; text-decoration-color: #0087ff\">Conv2D</span>)                    │ (<span style=\"color: #00d7ff; text-decoration-color: #00d7ff\">None</span>, <span style=\"color: #00af00; text-decoration-color: #00af00\">8</span>, <span style=\"color: #00af00; text-decoration-color: #00af00\">8</span>, <span style=\"color: #00af00; text-decoration-color: #00af00\">32</span>)            │           <span style=\"color: #00af00; text-decoration-color: #00af00\">1,184</span> │\n",
              "├──────────────────────────────────────┼─────────────────────────────┼─────────────────┤\n",
              "│ botnext4 (<span style=\"color: #0087ff; text-decoration-color: #0087ff\">UpSampling2D</span>)              │ (<span style=\"color: #00d7ff; text-decoration-color: #00d7ff\">None</span>, <span style=\"color: #00af00; text-decoration-color: #00af00\">16</span>, <span style=\"color: #00af00; text-decoration-color: #00af00\">16</span>, <span style=\"color: #00af00; text-decoration-color: #00af00\">32</span>)          │               <span style=\"color: #00af00; text-decoration-color: #00af00\">0</span> │\n",
              "├──────────────────────────────────────┼─────────────────────────────┼─────────────────┤\n",
              "│ botnext5 (<span style=\"color: #0087ff; text-decoration-color: #0087ff\">Conv2D</span>)                    │ (<span style=\"color: #00d7ff; text-decoration-color: #00d7ff\">None</span>, <span style=\"color: #00af00; text-decoration-color: #00af00\">14</span>, <span style=\"color: #00af00; text-decoration-color: #00af00\">14</span>, <span style=\"color: #00af00; text-decoration-color: #00af00\">32</span>)          │           <span style=\"color: #00af00; text-decoration-color: #00af00\">9,248</span> │\n",
              "├──────────────────────────────────────┼─────────────────────────────┼─────────────────┤\n",
              "│ botnext6 (<span style=\"color: #0087ff; text-decoration-color: #0087ff\">UpSampling2D</span>)              │ (<span style=\"color: #00d7ff; text-decoration-color: #00d7ff\">None</span>, <span style=\"color: #00af00; text-decoration-color: #00af00\">28</span>, <span style=\"color: #00af00; text-decoration-color: #00af00\">28</span>, <span style=\"color: #00af00; text-decoration-color: #00af00\">32</span>)          │               <span style=\"color: #00af00; text-decoration-color: #00af00\">0</span> │\n",
              "├──────────────────────────────────────┼─────────────────────────────┼─────────────────┤\n",
              "│ botnext7 (<span style=\"color: #0087ff; text-decoration-color: #0087ff\">Conv2D</span>)                    │ (<span style=\"color: #00d7ff; text-decoration-color: #00d7ff\">None</span>, <span style=\"color: #00af00; text-decoration-color: #00af00\">28</span>, <span style=\"color: #00af00; text-decoration-color: #00af00\">28</span>, <span style=\"color: #00af00; text-decoration-color: #00af00\">1</span>)           │             <span style=\"color: #00af00; text-decoration-color: #00af00\">289</span> │\n",
              "└──────────────────────────────────────┴─────────────────────────────┴─────────────────┘\n",
              "</pre>\n"
            ]
          },
          "metadata": {}
        },
        {
          "output_type": "display_data",
          "data": {
            "text/plain": [
              "\u001b[1m Total params: \u001b[0m\u001b[38;5;34m10,869\u001b[0m (42.46 KB)\n"
            ],
            "text/html": [
              "<pre style=\"white-space:pre;overflow-x:auto;line-height:normal;font-family:Menlo,'DejaVu Sans Mono',consolas,'Courier New',monospace\"><span style=\"font-weight: bold\"> Total params: </span><span style=\"color: #00af00; text-decoration-color: #00af00\">10,869</span> (42.46 KB)\n",
              "</pre>\n"
            ]
          },
          "metadata": {}
        },
        {
          "output_type": "display_data",
          "data": {
            "text/plain": [
              "\u001b[1m Trainable params: \u001b[0m\u001b[38;5;34m10,869\u001b[0m (42.46 KB)\n"
            ],
            "text/html": [
              "<pre style=\"white-space:pre;overflow-x:auto;line-height:normal;font-family:Menlo,'DejaVu Sans Mono',consolas,'Courier New',monospace\"><span style=\"font-weight: bold\"> Trainable params: </span><span style=\"color: #00af00; text-decoration-color: #00af00\">10,869</span> (42.46 KB)\n",
              "</pre>\n"
            ]
          },
          "metadata": {}
        },
        {
          "output_type": "display_data",
          "data": {
            "text/plain": [
              "\u001b[1m Non-trainable params: \u001b[0m\u001b[38;5;34m0\u001b[0m (0.00 B)\n"
            ],
            "text/html": [
              "<pre style=\"white-space:pre;overflow-x:auto;line-height:normal;font-family:Menlo,'DejaVu Sans Mono',consolas,'Courier New',monospace\"><span style=\"font-weight: bold\"> Non-trainable params: </span><span style=\"color: #00af00; text-decoration-color: #00af00\">0</span> (0.00 B)\n",
              "</pre>\n"
            ]
          },
          "metadata": {}
        }
      ]
    },
    {
      "cell_type": "markdown",
      "source": [
        "# **Reshapping** **the** **Data**🔄📐"
      ],
      "metadata": {
        "id": "VN5XR04McYGD"
      }
    },
    {
      "cell_type": "code",
      "source": [
        "x_train = x_train.reshape(x_train.shape[0], 28, 28, 1)\n",
        "x_test = x_test.reshape(x_test.shape[0], 28, 28, 1)\n",
        "print(x_train.shape, x_test.shape)"
      ],
      "metadata": {
        "colab": {
          "base_uri": "https://localhost:8080/"
        },
        "id": "1uefcUNZXiX4",
        "outputId": "12f9860e-c464-4c19-c030-c0cb225490e0"
      },
      "execution_count": 23,
      "outputs": [
        {
          "output_type": "stream",
          "name": "stdout",
          "text": [
            "(60000, 28, 28, 1) (10000, 28, 28, 1)\n"
          ]
        }
      ]
    },
    {
      "cell_type": "markdown",
      "source": [
        "# **Training** **the** **Auto encoders** 🏋️‍♂️"
      ],
      "metadata": {
        "id": "XgbkoCWOcPJk"
      }
    },
    {
      "cell_type": "code",
      "source": [
        "from time import time\n",
        "tic = time()\n",
        "Ae_Conv.fit(x_train, x_train,\n",
        "            epochs=100,\n",
        "            verbose=2,\n",
        "            batch_size=1024,\n",
        "            shuffle=False, validation_split= 0.1)\n",
        "toc = time()\n",
        "print('training took {} Secs'.format(toc-tic))"
      ],
      "metadata": {
        "colab": {
          "base_uri": "https://localhost:8080/"
        },
        "id": "CMLyranHX-sG",
        "outputId": "a3f67254-b517-4bb2-e169-d8cd5fc7ec3d"
      },
      "execution_count": 26,
      "outputs": [
        {
          "output_type": "stream",
          "name": "stdout",
          "text": [
            "Epoch 1/100\n",
            "53/53 - 14s - 256ms/step - accuracy: 0.7959 - loss: 0.3689 - val_accuracy: 0.7925 - val_loss: 0.2689\n",
            "Epoch 2/100\n",
            "53/53 - 9s - 177ms/step - accuracy: 0.7935 - loss: 0.2510 - val_accuracy: 0.8019 - val_loss: 0.2404\n",
            "Epoch 3/100\n",
            "53/53 - 2s - 46ms/step - accuracy: 0.7908 - loss: 0.2317 - val_accuracy: 0.8008 - val_loss: 0.2304\n",
            "Epoch 4/100\n",
            "53/53 - 1s - 26ms/step - accuracy: 0.7894 - loss: 0.2209 - val_accuracy: 0.8016 - val_loss: 0.2241\n",
            "Epoch 5/100\n",
            "53/53 - 3s - 47ms/step - accuracy: 0.7890 - loss: 0.2142 - val_accuracy: 0.8021 - val_loss: 0.2186\n",
            "Epoch 6/100\n",
            "53/53 - 1s - 27ms/step - accuracy: 0.7892 - loss: 0.2087 - val_accuracy: 0.8024 - val_loss: 0.2140\n",
            "Epoch 7/100\n",
            "53/53 - 1s - 28ms/step - accuracy: 0.7896 - loss: 0.2049 - val_accuracy: 0.8008 - val_loss: 0.2069\n",
            "Epoch 8/100\n",
            "53/53 - 1s - 27ms/step - accuracy: 0.7900 - loss: 0.2014 - val_accuracy: 0.7996 - val_loss: 0.2014\n",
            "Epoch 9/100\n",
            "53/53 - 1s - 26ms/step - accuracy: 0.7906 - loss: 0.1976 - val_accuracy: 0.8037 - val_loss: 0.2053\n",
            "Epoch 10/100\n",
            "53/53 - 1s - 27ms/step - accuracy: 0.7916 - loss: 0.1935 - val_accuracy: 0.8004 - val_loss: 0.1943\n",
            "Epoch 11/100\n",
            "53/53 - 1s - 27ms/step - accuracy: 0.7913 - loss: 0.1929 - val_accuracy: 0.8027 - val_loss: 0.1959\n",
            "Epoch 12/100\n",
            "53/53 - 3s - 48ms/step - accuracy: 0.7924 - loss: 0.1888 - val_accuracy: 0.7898 - val_loss: 0.1869\n",
            "Epoch 13/100\n",
            "53/53 - 3s - 50ms/step - accuracy: 0.7924 - loss: 0.1870 - val_accuracy: 0.8021 - val_loss: 0.1898\n",
            "Epoch 14/100\n",
            "53/53 - 2s - 30ms/step - accuracy: 0.7933 - loss: 0.1836 - val_accuracy: 0.7893 - val_loss: 0.1826\n",
            "Epoch 15/100\n",
            "53/53 - 2s - 30ms/step - accuracy: 0.7932 - loss: 0.1833 - val_accuracy: 0.8021 - val_loss: 0.1850\n",
            "Epoch 16/100\n",
            "53/53 - 1s - 28ms/step - accuracy: 0.7942 - loss: 0.1798 - val_accuracy: 0.7900 - val_loss: 0.1791\n",
            "Epoch 17/100\n",
            "53/53 - 1s - 27ms/step - accuracy: 0.7941 - loss: 0.1797 - val_accuracy: 0.8025 - val_loss: 0.1814\n",
            "Epoch 18/100\n",
            "53/53 - 3s - 48ms/step - accuracy: 0.7950 - loss: 0.1763 - val_accuracy: 0.7956 - val_loss: 0.1734\n",
            "Epoch 19/100\n",
            "53/53 - 1s - 27ms/step - accuracy: 0.7949 - loss: 0.1767 - val_accuracy: 0.8032 - val_loss: 0.1785\n",
            "Epoch 20/100\n",
            "53/53 - 1s - 27ms/step - accuracy: 0.7957 - loss: 0.1735 - val_accuracy: 0.8005 - val_loss: 0.1718\n",
            "Epoch 21/100\n",
            "53/53 - 3s - 51ms/step - accuracy: 0.7955 - loss: 0.1741 - val_accuracy: 0.8043 - val_loss: 0.1773\n",
            "Epoch 22/100\n",
            "53/53 - 3s - 48ms/step - accuracy: 0.7964 - loss: 0.1715 - val_accuracy: 0.7913 - val_loss: 0.1719\n",
            "Epoch 23/100\n",
            "53/53 - 2s - 45ms/step - accuracy: 0.7962 - loss: 0.1716 - val_accuracy: 0.8040 - val_loss: 0.1735\n",
            "Epoch 24/100\n",
            "53/53 - 1s - 28ms/step - accuracy: 0.7969 - loss: 0.1692 - val_accuracy: 0.7924 - val_loss: 0.1691\n",
            "Epoch 25/100\n",
            "53/53 - 2s - 47ms/step - accuracy: 0.7968 - loss: 0.1696 - val_accuracy: 0.8043 - val_loss: 0.1712\n",
            "Epoch 26/100\n",
            "53/53 - 2s - 30ms/step - accuracy: 0.7974 - loss: 0.1673 - val_accuracy: 0.7936 - val_loss: 0.1669\n",
            "Epoch 27/100\n",
            "53/53 - 2s - 47ms/step - accuracy: 0.7974 - loss: 0.1673 - val_accuracy: 0.8046 - val_loss: 0.1688\n",
            "Epoch 28/100\n",
            "53/53 - 2s - 46ms/step - accuracy: 0.7980 - loss: 0.1652 - val_accuracy: 0.7948 - val_loss: 0.1643\n",
            "Epoch 29/100\n",
            "53/53 - 1s - 28ms/step - accuracy: 0.7980 - loss: 0.1651 - val_accuracy: 0.8049 - val_loss: 0.1665\n",
            "Epoch 30/100\n",
            "53/53 - 3s - 47ms/step - accuracy: 0.7986 - loss: 0.1631 - val_accuracy: 0.7958 - val_loss: 0.1618\n",
            "Epoch 31/100\n",
            "53/53 - 1s - 27ms/step - accuracy: 0.7985 - loss: 0.1631 - val_accuracy: 0.8052 - val_loss: 0.1643\n",
            "Epoch 32/100\n",
            "53/53 - 3s - 51ms/step - accuracy: 0.7991 - loss: 0.1610 - val_accuracy: 0.7965 - val_loss: 0.1598\n",
            "Epoch 33/100\n",
            "53/53 - 2s - 46ms/step - accuracy: 0.7990 - loss: 0.1612 - val_accuracy: 0.8055 - val_loss: 0.1623\n",
            "Epoch 34/100\n",
            "53/53 - 1s - 27ms/step - accuracy: 0.7996 - loss: 0.1591 - val_accuracy: 0.7975 - val_loss: 0.1576\n",
            "Epoch 35/100\n",
            "53/53 - 1s - 27ms/step - accuracy: 0.7995 - loss: 0.1596 - val_accuracy: 0.8058 - val_loss: 0.1606\n",
            "Epoch 36/100\n",
            "53/53 - 1s - 27ms/step - accuracy: 0.8001 - loss: 0.1573 - val_accuracy: 0.7982 - val_loss: 0.1556\n",
            "Epoch 37/100\n",
            "53/53 - 3s - 49ms/step - accuracy: 0.7999 - loss: 0.1580 - val_accuracy: 0.8061 - val_loss: 0.1588\n",
            "Epoch 38/100\n",
            "53/53 - 3s - 51ms/step - accuracy: 0.8005 - loss: 0.1557 - val_accuracy: 0.7990 - val_loss: 0.1537\n",
            "Epoch 39/100\n",
            "53/53 - 2s - 30ms/step - accuracy: 0.8003 - loss: 0.1565 - val_accuracy: 0.8064 - val_loss: 0.1574\n",
            "Epoch 40/100\n",
            "53/53 - 2s - 46ms/step - accuracy: 0.8009 - loss: 0.1540 - val_accuracy: 0.8002 - val_loss: 0.1516\n",
            "Epoch 41/100\n",
            "53/53 - 1s - 28ms/step - accuracy: 0.8007 - loss: 0.1551 - val_accuracy: 0.8066 - val_loss: 0.1558\n",
            "Epoch 42/100\n",
            "53/53 - 1s - 28ms/step - accuracy: 0.8014 - loss: 0.1525 - val_accuracy: 0.8013 - val_loss: 0.1498\n",
            "Epoch 43/100\n",
            "53/53 - 2s - 29ms/step - accuracy: 0.8011 - loss: 0.1537 - val_accuracy: 0.8069 - val_loss: 0.1544\n",
            "Epoch 44/100\n",
            "53/53 - 1s - 28ms/step - accuracy: 0.8017 - loss: 0.1511 - val_accuracy: 0.8024 - val_loss: 0.1481\n",
            "Epoch 45/100\n",
            "53/53 - 3s - 51ms/step - accuracy: 0.8015 - loss: 0.1524 - val_accuracy: 0.8072 - val_loss: 0.1530\n",
            "Epoch 46/100\n",
            "53/53 - 2s - 29ms/step - accuracy: 0.8021 - loss: 0.1498 - val_accuracy: 0.8033 - val_loss: 0.1467\n",
            "Epoch 47/100\n",
            "53/53 - 1s - 28ms/step - accuracy: 0.8018 - loss: 0.1510 - val_accuracy: 0.8074 - val_loss: 0.1516\n",
            "Epoch 48/100\n",
            "53/53 - 1s - 28ms/step - accuracy: 0.8024 - loss: 0.1486 - val_accuracy: 0.8032 - val_loss: 0.1455\n",
            "Epoch 49/100\n",
            "53/53 - 1s - 27ms/step - accuracy: 0.8022 - loss: 0.1499 - val_accuracy: 0.8076 - val_loss: 0.1506\n",
            "Epoch 50/100\n",
            "53/53 - 3s - 48ms/step - accuracy: 0.8028 - loss: 0.1473 - val_accuracy: 0.8039 - val_loss: 0.1443\n",
            "Epoch 51/100\n",
            "53/53 - 3s - 48ms/step - accuracy: 0.8025 - loss: 0.1487 - val_accuracy: 0.8078 - val_loss: 0.1494\n",
            "Epoch 52/100\n",
            "53/53 - 3s - 49ms/step - accuracy: 0.8031 - loss: 0.1462 - val_accuracy: 0.8042 - val_loss: 0.1432\n",
            "Epoch 53/100\n",
            "53/53 - 2s - 47ms/step - accuracy: 0.8028 - loss: 0.1476 - val_accuracy: 0.8080 - val_loss: 0.1483\n",
            "Epoch 54/100\n",
            "53/53 - 1s - 27ms/step - accuracy: 0.8033 - loss: 0.1451 - val_accuracy: 0.8038 - val_loss: 0.1423\n",
            "Epoch 55/100\n",
            "53/53 - 1s - 27ms/step - accuracy: 0.8030 - loss: 0.1466 - val_accuracy: 0.8082 - val_loss: 0.1473\n",
            "Epoch 56/100\n",
            "53/53 - 3s - 47ms/step - accuracy: 0.8036 - loss: 0.1441 - val_accuracy: 0.8036 - val_loss: 0.1415\n",
            "Epoch 57/100\n",
            "53/53 - 1s - 27ms/step - accuracy: 0.8033 - loss: 0.1456 - val_accuracy: 0.8084 - val_loss: 0.1463\n",
            "Epoch 58/100\n",
            "53/53 - 1s - 28ms/step - accuracy: 0.8038 - loss: 0.1432 - val_accuracy: 0.8033 - val_loss: 0.1409\n",
            "Epoch 59/100\n",
            "53/53 - 2s - 28ms/step - accuracy: 0.8036 - loss: 0.1446 - val_accuracy: 0.8085 - val_loss: 0.1453\n",
            "Epoch 60/100\n",
            "53/53 - 2s - 47ms/step - accuracy: 0.8041 - loss: 0.1422 - val_accuracy: 0.8033 - val_loss: 0.1402\n",
            "Epoch 61/100\n",
            "53/53 - 1s - 27ms/step - accuracy: 0.8038 - loss: 0.1436 - val_accuracy: 0.8087 - val_loss: 0.1444\n",
            "Epoch 62/100\n",
            "53/53 - 3s - 48ms/step - accuracy: 0.8043 - loss: 0.1413 - val_accuracy: 0.8036 - val_loss: 0.1392\n",
            "Epoch 63/100\n",
            "53/53 - 1s - 28ms/step - accuracy: 0.8040 - loss: 0.1427 - val_accuracy: 0.8088 - val_loss: 0.1435\n",
            "Epoch 64/100\n",
            "53/53 - 1s - 27ms/step - accuracy: 0.8045 - loss: 0.1405 - val_accuracy: 0.8035 - val_loss: 0.1387\n",
            "Epoch 65/100\n",
            "53/53 - 1s - 28ms/step - accuracy: 0.8042 - loss: 0.1418 - val_accuracy: 0.8089 - val_loss: 0.1426\n",
            "Epoch 66/100\n",
            "53/53 - 2s - 47ms/step - accuracy: 0.8046 - loss: 0.1397 - val_accuracy: 0.8035 - val_loss: 0.1381\n",
            "Epoch 67/100\n",
            "53/53 - 3s - 48ms/step - accuracy: 0.8044 - loss: 0.1409 - val_accuracy: 0.8090 - val_loss: 0.1417\n",
            "Epoch 68/100\n",
            "53/53 - 1s - 27ms/step - accuracy: 0.8048 - loss: 0.1390 - val_accuracy: 0.8036 - val_loss: 0.1374\n",
            "Epoch 69/100\n",
            "53/53 - 3s - 49ms/step - accuracy: 0.8046 - loss: 0.1401 - val_accuracy: 0.8091 - val_loss: 0.1410\n",
            "Epoch 70/100\n",
            "53/53 - 1s - 27ms/step - accuracy: 0.8050 - loss: 0.1383 - val_accuracy: 0.8038 - val_loss: 0.1367\n",
            "Epoch 71/100\n",
            "53/53 - 2s - 30ms/step - accuracy: 0.8048 - loss: 0.1393 - val_accuracy: 0.8092 - val_loss: 0.1404\n",
            "Epoch 72/100\n",
            "53/53 - 2s - 38ms/step - accuracy: 0.8051 - loss: 0.1376 - val_accuracy: 0.8039 - val_loss: 0.1361\n",
            "Epoch 73/100\n",
            "53/53 - 2s - 38ms/step - accuracy: 0.8049 - loss: 0.1386 - val_accuracy: 0.8093 - val_loss: 0.1397\n",
            "Epoch 74/100\n",
            "53/53 - 3s - 48ms/step - accuracy: 0.8053 - loss: 0.1370 - val_accuracy: 0.8041 - val_loss: 0.1354\n",
            "Epoch 75/100\n",
            "53/53 - 1s - 27ms/step - accuracy: 0.8051 - loss: 0.1378 - val_accuracy: 0.8094 - val_loss: 0.1390\n",
            "Epoch 76/100\n",
            "53/53 - 1s - 27ms/step - accuracy: 0.8054 - loss: 0.1364 - val_accuracy: 0.8044 - val_loss: 0.1346\n",
            "Epoch 77/100\n",
            "53/53 - 3s - 48ms/step - accuracy: 0.8052 - loss: 0.1371 - val_accuracy: 0.8095 - val_loss: 0.1384\n",
            "Epoch 78/100\n",
            "53/53 - 1s - 28ms/step - accuracy: 0.8056 - loss: 0.1357 - val_accuracy: 0.8046 - val_loss: 0.1339\n",
            "Epoch 79/100\n",
            "53/53 - 2s - 33ms/step - accuracy: 0.8054 - loss: 0.1365 - val_accuracy: 0.8096 - val_loss: 0.1378\n",
            "Epoch 80/100\n",
            "53/53 - 1s - 27ms/step - accuracy: 0.8057 - loss: 0.1351 - val_accuracy: 0.8048 - val_loss: 0.1333\n",
            "Epoch 81/100\n",
            "53/53 - 1s - 27ms/step - accuracy: 0.8055 - loss: 0.1358 - val_accuracy: 0.8097 - val_loss: 0.1372\n",
            "Epoch 82/100\n",
            "53/53 - 3s - 48ms/step - accuracy: 0.8058 - loss: 0.1346 - val_accuracy: 0.8050 - val_loss: 0.1327\n",
            "Epoch 83/100\n",
            "53/53 - 1s - 27ms/step - accuracy: 0.8057 - loss: 0.1352 - val_accuracy: 0.8098 - val_loss: 0.1366\n",
            "Epoch 84/100\n",
            "53/53 - 1s - 27ms/step - accuracy: 0.8060 - loss: 0.1340 - val_accuracy: 0.8052 - val_loss: 0.1320\n",
            "Epoch 85/100\n",
            "53/53 - 3s - 49ms/step - accuracy: 0.8058 - loss: 0.1346 - val_accuracy: 0.8098 - val_loss: 0.1360\n",
            "Epoch 86/100\n",
            "53/53 - 3s - 47ms/step - accuracy: 0.8061 - loss: 0.1334 - val_accuracy: 0.8053 - val_loss: 0.1314\n",
            "Epoch 87/100\n",
            "53/53 - 3s - 49ms/step - accuracy: 0.8059 - loss: 0.1341 - val_accuracy: 0.8099 - val_loss: 0.1354\n",
            "Epoch 88/100\n",
            "53/53 - 1s - 27ms/step - accuracy: 0.8062 - loss: 0.1329 - val_accuracy: 0.8055 - val_loss: 0.1308\n",
            "Epoch 89/100\n",
            "53/53 - 1s - 28ms/step - accuracy: 0.8060 - loss: 0.1335 - val_accuracy: 0.8100 - val_loss: 0.1349\n",
            "Epoch 90/100\n",
            "53/53 - 3s - 48ms/step - accuracy: 0.8063 - loss: 0.1324 - val_accuracy: 0.8057 - val_loss: 0.1303\n",
            "Epoch 91/100\n",
            "53/53 - 3s - 49ms/step - accuracy: 0.8061 - loss: 0.1330 - val_accuracy: 0.8101 - val_loss: 0.1345\n",
            "Epoch 92/100\n",
            "53/53 - 2s - 47ms/step - accuracy: 0.8064 - loss: 0.1319 - val_accuracy: 0.8058 - val_loss: 0.1298\n",
            "Epoch 93/100\n",
            "53/53 - 3s - 48ms/step - accuracy: 0.8063 - loss: 0.1324 - val_accuracy: 0.8102 - val_loss: 0.1340\n",
            "Epoch 94/100\n",
            "53/53 - 1s - 27ms/step - accuracy: 0.8065 - loss: 0.1314 - val_accuracy: 0.8059 - val_loss: 0.1292\n",
            "Epoch 95/100\n",
            "53/53 - 1s - 27ms/step - accuracy: 0.8064 - loss: 0.1320 - val_accuracy: 0.8102 - val_loss: 0.1335\n",
            "Epoch 96/100\n",
            "53/53 - 3s - 50ms/step - accuracy: 0.8066 - loss: 0.1309 - val_accuracy: 0.8061 - val_loss: 0.1287\n",
            "Epoch 97/100\n",
            "53/53 - 2s - 46ms/step - accuracy: 0.8065 - loss: 0.1315 - val_accuracy: 0.8103 - val_loss: 0.1330\n",
            "Epoch 98/100\n",
            "53/53 - 3s - 48ms/step - accuracy: 0.8067 - loss: 0.1305 - val_accuracy: 0.8063 - val_loss: 0.1282\n",
            "Epoch 99/100\n",
            "53/53 - 3s - 48ms/step - accuracy: 0.8066 - loss: 0.1310 - val_accuracy: 0.8104 - val_loss: 0.1325\n",
            "Epoch 100/100\n",
            "53/53 - 1s - 27ms/step - accuracy: 0.8068 - loss: 0.1301 - val_accuracy: 0.8065 - val_loss: 0.1277\n",
            "training took 214.60797500610352 Secs\n"
          ]
        }
      ]
    },
    {
      "cell_type": "markdown",
      "source": [
        "# **Passing the image to encoder** 🖼️➡️🔐"
      ],
      "metadata": {
        "id": "s8LAlPf1cq-c"
      }
    },
    {
      "cell_type": "code",
      "source": [
        "encoded_imgs = ae_conv_encoder.predict(x_test)\n",
        "print(encoded_imgs.shape)"
      ],
      "metadata": {
        "colab": {
          "base_uri": "https://localhost:8080/"
        },
        "id": "5_jhyYoVYebI",
        "outputId": "7216c011-a1f8-4001-882e-607227a1046b"
      },
      "execution_count": 28,
      "outputs": [
        {
          "output_type": "stream",
          "name": "stdout",
          "text": [
            "\u001b[1m313/313\u001b[0m \u001b[32m━━━━━━━━━━━━━━━━━━━━\u001b[0m\u001b[37m\u001b[0m \u001b[1m1s\u001b[0m 2ms/step\n",
            "(10000, 64)\n"
          ]
        }
      ]
    },
    {
      "cell_type": "markdown",
      "source": [
        "# **Passing Compressed image Features to Decoder**  🖼️"
      ],
      "metadata": {
        "id": "0xcL4X36c1EE"
      }
    },
    {
      "cell_type": "code",
      "source": [
        "decoded_imgs = ae_conv_decoder.predict(encoded_imgs)\n",
        "deoceded_images = Ae_Conv.predict(x_test)\n",
        "print('Recreated image Representation of shape {} using Decoder and reduced Image representation of shape {}'.format (decoded_imgs.shape,\n",
        "                                                                                                                      encoded_imgs.shape))\n",
        "n = 10\n",
        "k = 12\n",
        "plt.figure(figsize=(20, 4))\n",
        "for i in range(n):\n",
        "  ax = plt.subplot(2, n, i + 1)\n",
        "  plt.imshow(x_test[i].reshape(28, 28))\n",
        "  plt.gray()\n",
        "  ax.get_xaxis().set_visible(False)\n",
        "  ax.get_xaxis().set_visible(False)\n",
        "\n",
        "  ax = plt.subplot(2, n, i + 1 + n)\n",
        "  plt.imshow(decoded_imgs[i*k].reshape(28,28))\n",
        "  plt.gray()\n",
        "  ax.get_xaxis().set_visible(False)\n",
        "  ax.get_yaxis().set_visible(False)\n",
        "plt.show()"
      ],
      "metadata": {
        "colab": {
          "base_uri": "https://localhost:8080/",
          "height": 220
        },
        "id": "BaKACVrFZvJ7",
        "outputId": "1ff2d103-ec74-4f4e-ce19-f57816b645b1"
      },
      "execution_count": 30,
      "outputs": [
        {
          "output_type": "stream",
          "name": "stdout",
          "text": [
            "\u001b[1m313/313\u001b[0m \u001b[32m━━━━━━━━━━━━━━━━━━━━\u001b[0m\u001b[37m\u001b[0m \u001b[1m0s\u001b[0m 1ms/step\n",
            "\u001b[1m313/313\u001b[0m \u001b[32m━━━━━━━━━━━━━━━━━━━━\u001b[0m\u001b[37m\u001b[0m \u001b[1m0s\u001b[0m 1ms/step\n",
            "Recreated image Representation of shape (10000, 28, 28, 1) using Decoder and reduced Image representation of shape (10000, 64)\n"
          ]
        },
        {
          "output_type": "display_data",
          "data": {
            "text/plain": [
              "<Figure size 2000x400 with 20 Axes>"
            ],
            "image/png": "[encoded data removed]"
          },
          "metadata": {}
        }
      ]
    }
  ],
  "metadata": {
    "colab": {
      "gpuType": "T4",
      "provenance": []
    },
    "kernelspec": {
      "display_name": "Python 3",
      "name": "python3"
    },
    "language_info": {
      "name": "python"
    },
    "accelerator": "GPU"
  },
  "nbformat": 4,
  "nbformat_minor": 0
}